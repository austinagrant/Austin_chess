{
 "cells": [
  {
   "cell_type": "code",
   "execution_count": 2,
   "metadata": {},
   "outputs": [],
   "source": [
    "import pandas as pd"
   ]
  },
  {
   "cell_type": "code",
   "execution_count": 3,
   "metadata": {},
   "outputs": [],
   "source": [
    "df = pd.read_csv('archive/chessData.csv')"
   ]
  },
  {
   "cell_type": "code",
   "execution_count": null,
   "metadata": {},
   "outputs": [],
   "source": [
    "print(df.head())"
   ]
  },
  {
   "cell_type": "code",
   "execution_count": 58,
   "metadata": {},
   "outputs": [],
   "source": [
    "def convert_to_index(pos: str) -> int:\n",
    "    if pos == \"-\":\n",
    "        return 0\n",
    "    file_map = {value: key for key, value in enumerate(\"abcdefgh\")}\n",
    "    col = file_map[pos[0]]\n",
    "    row = int(pos[1]) - 1\n",
    "    # print(f\"col: {col}, row: {row}\")\n",
    "    return 1 << (row * 8) + col\n"
   ]
  },
  {
   "cell_type": "code",
   "execution_count": 59,
   "metadata": {},
   "outputs": [],
   "source": [
    "\n",
    "def convert_fen(fen: str):\n",
    "    piece_map = {value: 0 for key, value in enumerate(\"KQRBNPkqrbnp\")}\n",
    "    # print(f\"Piece_Map: {piece_map}\")\n",
    "    ranks = fen.split(\"/\")\n",
    "    # print(f\"ranks: {ranks}\")\n",
    "    curr_rank = 8\n",
    "    while curr_rank > 0:\n",
    "        r = ranks[8-curr_rank]\n",
    "        file_index = 0\n",
    "        # print(f\"rank: {curr_rank-1} | {r}\")\n",
    "        for i in range(len(r)):\n",
    "            c = r[i]\n",
    "            if file_index >= 8:\n",
    "                states = r[i:].split(\" \")[1:]\n",
    "                # print(f\"States: {states}\")\n",
    "                piece_map[\"moves\"] = 0 if states[0] == 'w' else 1\n",
    "                piece_map[\"castle\"] = [0 if c == \"-\" else 1 for c in states[1]] # KQkq\n",
    "                piece_map[\"en_passant\"] = convert_to_index(states[2])\n",
    "                piece_map[\"half_clock\"] = int(states[3])\n",
    "                piece_map[\"full_clock\"] = int(states[4])\n",
    "                return piece_map\n",
    "            else:\n",
    "                if c.isdigit():\n",
    "                    file_index += int(c)\n",
    "                else:\n",
    "                    # print(f\"c: {c}\")\n",
    "                    piece_map[c] += (1 << ((curr_rank * 8) + file_index))\n",
    "                    file_index += 1\n",
    "        curr_rank -= 1\n",
    "    return piece_map\n",
    "                \n"
   ]
  },
  {
   "cell_type": "code",
   "execution_count": 60,
   "metadata": {},
   "outputs": [],
   "source": [
    "df['longs'] = df['FEN'].apply(convert_fen)"
   ]
  },
  {
   "cell_type": "code",
   "execution_count": null,
   "metadata": {},
   "outputs": [],
   "source": [
    "print(df[''])"
   ]
  }
 ],
 "metadata": {
  "kernelspec": {
   "display_name": "myenv",
   "language": "python",
   "name": "python3"
  },
  "language_info": {
   "codemirror_mode": {
    "name": "ipython",
    "version": 3
   },
   "file_extension": ".py",
   "mimetype": "text/x-python",
   "name": "python",
   "nbconvert_exporter": "python",
   "pygments_lexer": "ipython3",
   "version": "3.12.4"
  }
 },
 "nbformat": 4,
 "nbformat_minor": 2
}
